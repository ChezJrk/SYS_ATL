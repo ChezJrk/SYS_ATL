{
 "cells": [
  {
   "cell_type": "markdown",
   "metadata": {},
   "source": [
    "# Writing a Blur"
   ]
  },
  {
   "cell_type": "code",
   "execution_count": null,
   "metadata": {},
   "outputs": [],
   "source": [
    "from __future__ import annotations        # make Python behave\n",
    "from PIL import Image                     # standard image library\n",
    "import numpy as np                        # standard array library\n",
    "import time                               # timers\n",
    "import sys                                # add DSL library to the Python path\n",
    "sys.path.append(sys.path[0]+\"/..\")\n",
    "from SYS_ATL import proc                  # import the SYS-ATL DSL\n",
    "\n",
    "def showimg(img_ndarray):                 # helper function for showing images\n",
    "    return Image.fromarray(img_ndarray).convert('L')"
   ]
  },
  {
   "cell_type": "code",
   "execution_count": null,
   "metadata": {},
   "outputs": [],
   "source": [
    "# open image as a data array\n",
    "parrot = np.array(Image.open('big_parrot.png'), np.float32)\n",
    "showimg(parrot)"
   ]
  },
  {
   "cell_type": "code",
   "execution_count": null,
   "metadata": {},
   "outputs": [],
   "source": [
    "# define \"blur\" in our DSL\n",
    "\n",
    "# this @proc \"decorator\" specifies that\n",
    "# the following function is written in SYS-ATL\n",
    "@proc\n",
    "def blur(N: size, M: size, K: size,      # size args specify sizes of other arguments\n",
    "         image  : R[N, M],          # an N x M array; for input\n",
    "         kernel : R[K, K],\n",
    "         res    : R[N, M]):        # an N x M array; for output\n",
    "    \n",
    "    for x in par(0, N):                  # zero out the `res`ult array\n",
    "        for y in par(0, M):\n",
    "            res[x, y] = 0.0\n",
    "    \n",
    "    for x in par(0, N):                  # loop nest specifying the blur\n",
    "        for y in par(0, M):\n",
    "            for i in par(0, K):\n",
    "                for j in par(0, K):\n",
    "                    if x+i < N and y+j < M:\n",
    "                        res[x, y] += kernel[i, j] * image[x+i, y+j]\n",
    "\n",
    "blur                                     # show the resulting code"
   ]
  },
  {
   "cell_type": "code",
   "execution_count": null,
   "metadata": {},
   "outputs": [],
   "source": [
    "# SYS-ATL is designed to trivially compile into C code\n",
    "blur.show_c_code()"
   ]
  },
  {
   "cell_type": "code",
   "execution_count": null,
   "metadata": {},
   "outputs": [],
   "source": [
    "# now, let's collect and name all the arguments we'll use\n",
    "# to call the procedure with\n",
    "N, M       = parrot.shape\n",
    "K          = 3\n",
    "kernel     = np.array([[0.0625, 0.1250, 0.0625],\n",
    "                       [0.1250, 0.2500, 0.1250],\n",
    "                       [0.0625, 0.1250, 0.0625]], dtype=np.float32)\n",
    "result     = np.zeros([N,M], dtype=np.float32)\n",
    "blurargs   = [N,M,K, parrot, kernel, result] # useful shorthand\n",
    "print(\"the size is...\")\n",
    "(N,M)"
   ]
  },
  {
   "cell_type": "code",
   "execution_count": null,
   "metadata": {},
   "outputs": [],
   "source": [
    "# in normal use, we'll dump that C-code to a file and use\n",
    "# a makefile toolchain, but for the sake of this demo\n",
    "# we'll use a simple jit-compilation wrapper so we\n",
    "# can keep working inside of this notebook.\n",
    "\n",
    "c_blur = blur.jit_compile()\n",
    "c_blur(N=N,M=M,K=K, image=parrot, kernel=kernel, res=result)\n",
    "showimg(result)"
   ]
  },
  {
   "cell_type": "code",
   "execution_count": null,
   "metadata": {},
   "outputs": [],
   "source": [
    "# let's compare to the original parrot\n",
    "showimg(parrot)"
   ]
  },
  {
   "cell_type": "code",
   "execution_count": null,
   "metadata": {},
   "outputs": [],
   "source": [
    "# Ok, let's time this original version of blur...\n",
    "show_report = True\n",
    "\n",
    "def take_timing(proc, *args, **kwargs):\n",
    "    n_runs           = 10\n",
    "    lo, total, hi    = 1.0e6, 0.0, 0.0\n",
    "    cproc            = proc.jit_compile()\n",
    "    cproc(*args, **kwargs)\n",
    "    \n",
    "    for _ in range(0,n_runs):\n",
    "        start = time.perf_counter()\n",
    "        cproc(*args, **kwargs)\n",
    "        stop  = time.perf_counter()\n",
    "        ms    = (stop-start)*1.0e3\n",
    "        if ms < lo:\n",
    "            lo = ms\n",
    "        if ms > hi:\n",
    "            hi = ms\n",
    "        total += ms\n",
    "    \n",
    "    # report\n",
    "    if show_report:\n",
    "        print(f\"timings for {proc.name()} in ms:\\n\"+\n",
    "              f\"    avg:   {total / n_runs}\\n\"+\n",
    "              f\"    min:   {lo}\\n\"+\n",
    "              f\"    max:   {hi}\\n\")\n",
    "    \n",
    "    return (total / n_runs)\n"
   ]
  },
  {
   "cell_type": "code",
   "execution_count": null,
   "metadata": {},
   "outputs": [],
   "source": [
    "take_timing(blur, N,M,K, parrot, kernel, result)"
   ]
  },
  {
   "cell_type": "markdown",
   "metadata": {},
   "source": [
    "# Scheduling Example (Tiling)"
   ]
  },
  {
   "cell_type": "code",
   "execution_count": null,
   "metadata": {},
   "outputs": [],
   "source": [
    "# observe what happens when we iterate over the image\n",
    "# in the wrong way relative to its storage order\n",
    "bad_blur = blur.rename('bad_blur')\n",
    "bad_blur = bad_blur.reorder('x','y')\n",
    "bad_blur"
   ]
  },
  {
   "cell_type": "code",
   "execution_count": null,
   "metadata": {},
   "outputs": [],
   "source": [
    "orig     = take_timing(blur, *blurargs)\n",
    "bad      = take_timing(bad_blur, *blurargs)\n",
    "print('slowdown is ', bad / orig)"
   ]
  },
  {
   "cell_type": "code",
   "execution_count": null,
   "metadata": {},
   "outputs": [],
   "source": [
    "# in order to tile, we need to split some loops\n",
    "split_blur = blur.rename('split_blur')\n",
    "split_blur = split_blur.split('x[2]', 8, ['xhi','xlo'])\n",
    "split_blur"
   ]
  },
  {
   "cell_type": "code",
   "execution_count": null,
   "metadata": {},
   "outputs": [],
   "source": [
    "# notice that the split scheduling primitive\n",
    "# must introduce additional if-guards to ensure\n",
    "# that all array accesses remain in-bounds\n",
    "\n",
    "# Alternatively, we can tell .split(...) to\n",
    "# ensure safety via a different \"tail-strategy\"\n",
    "split_blur = blur.rename('split_blur')\n",
    "split_blur = split_blur.split('x[2]', 8, ['xhi','xlo'], cut_tail=True)\n",
    "split_blur"
   ]
  },
  {
   "cell_type": "code",
   "execution_count": null,
   "metadata": {},
   "outputs": [],
   "source": [
    "# Then, we can similarly split the inner y-loop\n",
    "split_blur = split_blur.split('y[2]', 8, ['yhi','ylo'], cut_tail=True)\n",
    "split_blur"
   ]
  },
  {
   "cell_type": "code",
   "execution_count": null,
   "metadata": {},
   "outputs": [],
   "source": [
    "# In order to accomplish tiling, we need to\n",
    "# wrap the two different split y loops in two\n",
    "# different copies of the `for xlo in ...` loop\n",
    "\n",
    "# This is an instance of loop-fissioning\n",
    "split_blur = split_blur.fission_after(\"for yhi in _: _\")\n",
    "split_blur"
   ]
  },
  {
   "cell_type": "code",
   "execution_count": null,
   "metadata": {},
   "outputs": [],
   "source": [
    "# now we can finish up the tiling transform by re-ordering the\n",
    "# lower order x iteration with the higher order y iteration\n",
    "\n",
    "# additionally, it turned out that moving the kernel iteration outside of this\n",
    "# inner loop was essential\n",
    "split_blur = (split_blur.reorder('xlo[1]','yhi')\n",
    "                        .reorder('ylo[1]','i').reorder('xlo[1]','i')\n",
    "                        .reorder('ylo[1]','j').reorder('xlo[1]','j'))\n",
    "split_blur"
   ]
  },
  {
   "cell_type": "code",
   "execution_count": null,
   "metadata": {},
   "outputs": [],
   "source": [
    "# now, let's go ahead and test our hypothesis:\n",
    "# that tiling will give us a performance improvement\n",
    "orig     = take_timing(blur, *blurargs)\n",
    "split    = take_timing(split_blur, *blurargs)\n",
    "print('speedup is ', orig / split)"
   ]
  },
  {
   "cell_type": "code",
   "execution_count": null,
   "metadata": {},
   "outputs": [],
   "source": [
    "# We chose to split by a factor of 8,\n",
    "# but one natural aspect of scheduling is\n",
    "# to tune this factor.\n",
    "\n",
    "# We can quickly build a test harness to explore this parameter\n",
    "def tile_by(n_x,n_y):\n",
    "    \n",
    "    test_blur = (blur.rename('test_blur')\n",
    "                     # split the loops we want to tile together\n",
    "                     .split('x[2]', n_x, ['xhi','xlo'], cut_tail=True)\n",
    "                     .split('y[2]', n_y, ['yhi','ylo'], cut_tail=True)\n",
    "                     # push the `for xlo in _` loop down over the y-loop split\n",
    "                     .fission_after(\"for yhi in _: _\")\n",
    "                     # complete the tiling by moving both lower-order loops\n",
    "                     # beneath both higher-order loops\n",
    "                     .reorder('xlo[1]','yhi')\n",
    "                     # finally, a magic improvement is to exchange the filter iteration order\n",
    "                     .reorder('ylo[1]','i').reorder('xlo[1]','i')\n",
    "                     .reorder('ylo[1]','j').reorder('xlo[1]','j')\n",
    "                )\n",
    "    test    = take_timing(test_blur, *blurargs)\n",
    "    print(f\"({n_x:3d}, {n_y:3d}):   {test:8.3f}\")\n",
    "\n",
    "show_report = False\n",
    "print(\"params        test (ms)\")\n",
    "for n_x,n_y in [(4,4),\n",
    "                (4,8),\n",
    "                (8,8),\n",
    "                (8,16),\n",
    "                (16,16),\n",
    "                (16,32),\n",
    "                (32,32),\n",
    "                (32,64),\n",
    "                (64,64),\n",
    "                (128,128)]:\n",
    "    tile_by(n_x,n_y)"
   ]
  },
  {
   "cell_type": "code",
   "execution_count": null,
   "metadata": {},
   "outputs": [],
   "source": []
  },
  {
   "cell_type": "code",
   "execution_count": null,
   "metadata": {},
   "outputs": [],
   "source": []
  }
 ],
 "metadata": {
  "kernelspec": {
   "display_name": "Python 3",
   "language": "python",
   "name": "python3"
  },
  "language_info": {
   "codemirror_mode": {
    "name": "ipython",
    "version": 3
   },
   "file_extension": ".py",
   "mimetype": "text/x-python",
   "name": "python",
   "nbconvert_exporter": "python",
   "pygments_lexer": "ipython3",
   "version": "3.9.2"
  }
 },
 "nbformat": 4,
 "nbformat_minor": 4
}
