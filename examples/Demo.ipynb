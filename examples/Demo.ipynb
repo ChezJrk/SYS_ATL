{
 "cells": [
  {
   "cell_type": "code",
   "execution_count": 7,
   "metadata": {},
   "outputs": [],
   "source": [
    "from __future__ import annotations\n",
    "import ctypes\n",
    "from ctypes import *\n",
    "import os\n",
    "import sys\n",
    "import subprocess\n",
    "import numpy as np\n",
    "from PIL import Image\n",
    "import scipy.stats as st\n",
    "sys.path.append(sys.path[0]+\"/..\")\n",
    "from SYS_ATL import proc, Procedure\n",
    "sys.path.append(sys.path[0]+\".\")\n",
    "from helper import *\n",
    "from pygments.styles import get_all_styles\n",
    "from pygments.lexers import PythonLexer\n",
    "from pygments.formatters import Terminal256Formatter\n",
    "from pygments import highlight\n",
    "\n",
    "def pprint(code):\n",
    "    highlighted_code = highlight(str(code), PythonLexer(), Terminal256Formatter(style='default'))\n",
    "    print(highlighted_code)"
   ]
  },
  {
   "cell_type": "code",
   "execution_count": 8,
   "metadata": {},
   "outputs": [],
   "source": [
    "def gen_blur():\n",
    "    @proc\n",
    "    def blur(n: size, m: size, k_size: size,\n",
    "             image: R[n, m] @ IN, kernel: R[k_size, k_size] @ IN, res: R[n, m] @ OUT):\n",
    "        for i in par(0, n):\n",
    "            for j in par(0, m):\n",
    "                res[i, j] = 0.0\n",
    "        for i in par(0, n):\n",
    "            for j in par(0, m):\n",
    "                for k in par(0, k_size):\n",
    "                    for l in par(0, k_size):\n",
    "                        if i+k >= 1 and i+k-n < 1 and j+l >= 1 and j+l-m < 1:\n",
    "                            res[i, j] += kernel[k, l] * image[i+k-1, j+l-1]\n",
    "\n",
    "    return blur"
   ]
  },
  {
   "cell_type": "code",
   "execution_count": 9,
   "metadata": {},
   "outputs": [],
   "source": [
    "blur = gen_blur()"
   ]
  },
  {
   "cell_type": "code",
   "execution_count": 10,
   "metadata": {},
   "outputs": [
    {
     "name": "stdout",
     "output_type": "stream",
     "text": [
      "\u001b[38;5;28;01mdef\u001b[39;00m \u001b[38;5;21mblur\u001b[39m(n: size, m: size, k_size: size, image: R[n, m] \u001b[38;5;241m@\u001b[39m IN,\n",
      "         kernel: R[k_size, k_size] \u001b[38;5;241m@\u001b[39m IN, res: R[n, m] \u001b[38;5;241m@\u001b[39m OUT):\n",
      "    \u001b[38;5;28;01mfor\u001b[39;00m i \u001b[38;5;129;01min\u001b[39;00m par(\u001b[38;5;241m0\u001b[39m, n):\n",
      "        \u001b[38;5;28;01mfor\u001b[39;00m j \u001b[38;5;129;01min\u001b[39;00m par(\u001b[38;5;241m0\u001b[39m, m):\n",
      "            res[i, j] \u001b[38;5;241m=\u001b[39m \u001b[38;5;241m0.0\u001b[39m\n",
      "    \u001b[38;5;28;01mfor\u001b[39;00m i \u001b[38;5;129;01min\u001b[39;00m par(\u001b[38;5;241m0\u001b[39m, n):\n",
      "        \u001b[38;5;28;01mfor\u001b[39;00m j \u001b[38;5;129;01min\u001b[39;00m par(\u001b[38;5;241m0\u001b[39m, m):\n",
      "            \u001b[38;5;28;01mfor\u001b[39;00m k \u001b[38;5;129;01min\u001b[39;00m par(\u001b[38;5;241m0\u001b[39m, k_size):\n",
      "                \u001b[38;5;28;01mfor\u001b[39;00m l \u001b[38;5;129;01min\u001b[39;00m par(\u001b[38;5;241m0\u001b[39m, k_size):\n",
      "                    \u001b[38;5;28;01mif\u001b[39;00m i \u001b[38;5;241m+\u001b[39m k \u001b[38;5;241m>\u001b[39m\u001b[38;5;241m=\u001b[39m \u001b[38;5;241m1\u001b[39m \u001b[38;5;129;01mand\u001b[39;00m i \u001b[38;5;241m+\u001b[39m k \u001b[38;5;241m-\u001b[39m n \u001b[38;5;241m<\u001b[39m \u001b[38;5;241m1\u001b[39m \u001b[38;5;129;01mand\u001b[39;00m j \u001b[38;5;241m+\u001b[39m l \u001b[38;5;241m>\u001b[39m\u001b[38;5;241m=\u001b[39m \u001b[38;5;241m1\u001b[39m \u001b[38;5;129;01mand\u001b[39;00m j \u001b[38;5;241m+\u001b[39m l \u001b[38;5;241m-\u001b[39m m \u001b[38;5;241m<\u001b[39m \u001b[38;5;241m1\u001b[39m:\n",
      "                        res[i, j] \u001b[38;5;241m+\u001b[39m\u001b[38;5;241m=\u001b[39m kernel[k, l] \u001b[38;5;241m*\u001b[39m image[i \u001b[38;5;241m+\u001b[39m k \u001b[38;5;241m-\u001b[39m \u001b[38;5;241m1\u001b[39m, j \u001b[38;5;241m+\u001b[39m l \u001b[38;5;241m-\u001b[39m \u001b[38;5;241m1\u001b[39m]\n",
      "\n"
     ]
    }
   ],
   "source": [
    "pprint(blur)"
   ]
  },
  {
   "cell_type": "code",
   "execution_count": 11,
   "metadata": {},
   "outputs": [
    {
     "name": "stdout",
     "output_type": "stream",
     "text": [
      "\u001b[38;5;28;01mdef\u001b[39;00m \u001b[38;5;21mblur\u001b[39m(n: size, m: size, k_size: size, image: R[n, m] \u001b[38;5;241m@\u001b[39m IN,\n",
      "         kernel: R[k_size, k_size] \u001b[38;5;241m@\u001b[39m IN, res: R[n, m] \u001b[38;5;241m@\u001b[39m OUT):\n",
      "    \u001b[38;5;28;01mfor\u001b[39;00m i \u001b[38;5;129;01min\u001b[39;00m par(\u001b[38;5;241m0\u001b[39m, n):\n",
      "        \u001b[38;5;28;01mfor\u001b[39;00m j \u001b[38;5;129;01min\u001b[39;00m par(\u001b[38;5;241m0\u001b[39m, m):\n",
      "            res[i, j] \u001b[38;5;241m=\u001b[39m \u001b[38;5;241m0.0\u001b[39m\n",
      "    \u001b[38;5;28;01mfor\u001b[39;00m i \u001b[38;5;129;01min\u001b[39;00m par(\u001b[38;5;241m0\u001b[39m, n):\n",
      "        \u001b[38;5;28;01mfor\u001b[39;00m j \u001b[38;5;129;01min\u001b[39;00m par(\u001b[38;5;241m0\u001b[39m, m):\n",
      "            \u001b[38;5;28;01mfor\u001b[39;00m l \u001b[38;5;129;01min\u001b[39;00m par(\u001b[38;5;241m0\u001b[39m, k_size):\n",
      "                \u001b[38;5;28;01mfor\u001b[39;00m k \u001b[38;5;129;01min\u001b[39;00m par(\u001b[38;5;241m0\u001b[39m, k_size):\n",
      "                    \u001b[38;5;28;01mif\u001b[39;00m i \u001b[38;5;241m+\u001b[39m k \u001b[38;5;241m>\u001b[39m\u001b[38;5;241m=\u001b[39m \u001b[38;5;241m1\u001b[39m \u001b[38;5;129;01mand\u001b[39;00m i \u001b[38;5;241m+\u001b[39m k \u001b[38;5;241m-\u001b[39m n \u001b[38;5;241m<\u001b[39m \u001b[38;5;241m1\u001b[39m \u001b[38;5;129;01mand\u001b[39;00m j \u001b[38;5;241m+\u001b[39m l \u001b[38;5;241m>\u001b[39m\u001b[38;5;241m=\u001b[39m \u001b[38;5;241m1\u001b[39m \u001b[38;5;129;01mand\u001b[39;00m j \u001b[38;5;241m+\u001b[39m l \u001b[38;5;241m-\u001b[39m m \u001b[38;5;241m<\u001b[39m \u001b[38;5;241m1\u001b[39m:\n",
      "                        res[i, j] \u001b[38;5;241m+\u001b[39m\u001b[38;5;241m=\u001b[39m kernel[k, l] \u001b[38;5;241m*\u001b[39m image[i \u001b[38;5;241m+\u001b[39m k \u001b[38;5;241m-\u001b[39m \u001b[38;5;241m1\u001b[39m, j \u001b[38;5;241m+\u001b[39m l \u001b[38;5;241m-\u001b[39m \u001b[38;5;241m1\u001b[39m]\n",
      "\n"
     ]
    }
   ],
   "source": [
    "pprint(blur.reorder('k', 'l'))"
   ]
  },
  {
   "cell_type": "code",
   "execution_count": 12,
   "metadata": {},
   "outputs": [
    {
     "name": "stdout",
     "output_type": "stream",
     "text": [
      "\u001b[38;5;28;01mdef\u001b[39;00m \u001b[38;5;21mblur\u001b[39m(n: size, m: size, k_size: size, image: R[n, m] \u001b[38;5;241m@\u001b[39m IN,\n",
      "         kernel: R[k_size, k_size] \u001b[38;5;241m@\u001b[39m IN, res: R[n, m] \u001b[38;5;241m@\u001b[39m OUT):\n",
      "    \u001b[38;5;28;01mfor\u001b[39;00m i \u001b[38;5;129;01min\u001b[39;00m par(\u001b[38;5;241m0\u001b[39m, n):\n",
      "        \u001b[38;5;28;01mfor\u001b[39;00m j1 \u001b[38;5;129;01min\u001b[39;00m par(\u001b[38;5;241m0\u001b[39m, m \u001b[38;5;241m/\u001b[39m \u001b[38;5;241m4\u001b[39m):\n",
      "            \u001b[38;5;28;01mfor\u001b[39;00m j2 \u001b[38;5;129;01min\u001b[39;00m par(\u001b[38;5;241m0\u001b[39m, \u001b[38;5;241m4\u001b[39m):\n",
      "                \u001b[38;5;28;01mif\u001b[39;00m \u001b[38;5;241m4\u001b[39m \u001b[38;5;241m*\u001b[39m j1 \u001b[38;5;241m+\u001b[39m j2 \u001b[38;5;241m<\u001b[39m m:\n",
      "                    res[i, \u001b[38;5;241m4\u001b[39m \u001b[38;5;241m*\u001b[39m j1 \u001b[38;5;241m+\u001b[39m j2] \u001b[38;5;241m=\u001b[39m \u001b[38;5;241m0.0\u001b[39m\n",
      "    \u001b[38;5;28;01mfor\u001b[39;00m i \u001b[38;5;129;01min\u001b[39;00m par(\u001b[38;5;241m0\u001b[39m, n):\n",
      "        \u001b[38;5;28;01mfor\u001b[39;00m j1 \u001b[38;5;129;01min\u001b[39;00m par(\u001b[38;5;241m0\u001b[39m, m \u001b[38;5;241m/\u001b[39m \u001b[38;5;241m4\u001b[39m):\n",
      "            \u001b[38;5;28;01mfor\u001b[39;00m j2 \u001b[38;5;129;01min\u001b[39;00m par(\u001b[38;5;241m0\u001b[39m, \u001b[38;5;241m4\u001b[39m):\n",
      "                \u001b[38;5;28;01mif\u001b[39;00m \u001b[38;5;241m4\u001b[39m \u001b[38;5;241m*\u001b[39m j1 \u001b[38;5;241m+\u001b[39m j2 \u001b[38;5;241m<\u001b[39m m:\n",
      "                    \u001b[38;5;28;01mfor\u001b[39;00m k \u001b[38;5;129;01min\u001b[39;00m par(\u001b[38;5;241m0\u001b[39m, k_size):\n",
      "                        \u001b[38;5;28;01mfor\u001b[39;00m l \u001b[38;5;129;01min\u001b[39;00m par(\u001b[38;5;241m0\u001b[39m, k_size):\n",
      "                            \u001b[38;5;28;01mif\u001b[39;00m i \u001b[38;5;241m+\u001b[39m k \u001b[38;5;241m>\u001b[39m\u001b[38;5;241m=\u001b[39m \u001b[38;5;241m1\u001b[39m \u001b[38;5;129;01mand\u001b[39;00m i \u001b[38;5;241m+\u001b[39m k \u001b[38;5;241m-\u001b[39m n \u001b[38;5;241m<\u001b[39m \u001b[38;5;241m1\u001b[39m \u001b[38;5;129;01mand\u001b[39;00m \u001b[38;5;241m4\u001b[39m \u001b[38;5;241m*\u001b[39m j1 \u001b[38;5;241m+\u001b[39m j2 \u001b[38;5;241m+\u001b[39m l \u001b[38;5;241m>\u001b[39m\u001b[38;5;241m=\u001b[39m \u001b[38;5;241m1\u001b[39m \u001b[38;5;129;01mand\u001b[39;00m \u001b[38;5;241m4\u001b[39m \u001b[38;5;241m*\u001b[39m j1 \u001b[38;5;241m+\u001b[39m j2 \u001b[38;5;241m+\u001b[39m l \u001b[38;5;241m-\u001b[39m m \u001b[38;5;241m<\u001b[39m \u001b[38;5;241m1\u001b[39m:\n",
      "                                res[i, \u001b[38;5;241m4\u001b[39m \u001b[38;5;241m*\u001b[39m j1 \u001b[38;5;241m+\u001b[39m\n",
      "                                    j2] \u001b[38;5;241m+\u001b[39m\u001b[38;5;241m=\u001b[39m kernel[k, l] \u001b[38;5;241m*\u001b[39m image[i \u001b[38;5;241m+\u001b[39m k \u001b[38;5;241m-\u001b[39m \u001b[38;5;241m1\u001b[39m,\n",
      "                                                                \u001b[38;5;241m4\u001b[39m \u001b[38;5;241m*\u001b[39m j1 \u001b[38;5;241m+\u001b[39m j2 \u001b[38;5;241m+\u001b[39m\n",
      "                                                                l \u001b[38;5;241m-\u001b[39m \u001b[38;5;241m1\u001b[39m]\n",
      "\n"
     ]
    }
   ],
   "source": [
    "pprint(blur.split('j',4,['j1','j2']))"
   ]
  },
  {
   "cell_type": "code",
   "execution_count": 13,
   "metadata": {},
   "outputs": [
    {
     "name": "stdout",
     "output_type": "stream",
     "text": [
      "\u001b[38;5;28;01mdef\u001b[39;00m \u001b[38;5;21mblur\u001b[39m(n: size, m: size, k_size: size, image: R[n, m] \u001b[38;5;241m@\u001b[39m IN,\n",
      "         kernel: R[k_size, k_size] \u001b[38;5;241m@\u001b[39m IN, res: R[n, m] \u001b[38;5;241m@\u001b[39m OUT):\n",
      "    \u001b[38;5;28;01mfor\u001b[39;00m i1 \u001b[38;5;129;01min\u001b[39;00m par(\u001b[38;5;241m0\u001b[39m, n \u001b[38;5;241m/\u001b[39m \u001b[38;5;241m4\u001b[39m):\n",
      "        \u001b[38;5;28;01mfor\u001b[39;00m i2 \u001b[38;5;129;01min\u001b[39;00m par(\u001b[38;5;241m0\u001b[39m, \u001b[38;5;241m4\u001b[39m):\n",
      "            \u001b[38;5;28;01mif\u001b[39;00m \u001b[38;5;241m4\u001b[39m \u001b[38;5;241m*\u001b[39m i1 \u001b[38;5;241m+\u001b[39m i2 \u001b[38;5;241m<\u001b[39m n:\n",
      "                \u001b[38;5;28;01mfor\u001b[39;00m j \u001b[38;5;129;01min\u001b[39;00m par(\u001b[38;5;241m0\u001b[39m, m):\n",
      "                    res[\u001b[38;5;241m4\u001b[39m \u001b[38;5;241m*\u001b[39m i1 \u001b[38;5;241m+\u001b[39m i2, j] \u001b[38;5;241m=\u001b[39m \u001b[38;5;241m0.0\u001b[39m\n",
      "    \u001b[38;5;28;01mfor\u001b[39;00m i \u001b[38;5;129;01min\u001b[39;00m par(\u001b[38;5;241m0\u001b[39m, n):\n",
      "        \u001b[38;5;28;01mfor\u001b[39;00m j \u001b[38;5;129;01min\u001b[39;00m par(\u001b[38;5;241m0\u001b[39m, m):\n",
      "            \u001b[38;5;28;01mfor\u001b[39;00m k \u001b[38;5;129;01min\u001b[39;00m par(\u001b[38;5;241m0\u001b[39m, k_size):\n",
      "                \u001b[38;5;28;01mfor\u001b[39;00m l \u001b[38;5;129;01min\u001b[39;00m par(\u001b[38;5;241m0\u001b[39m, k_size):\n",
      "                    \u001b[38;5;28;01mif\u001b[39;00m i \u001b[38;5;241m+\u001b[39m k \u001b[38;5;241m>\u001b[39m\u001b[38;5;241m=\u001b[39m \u001b[38;5;241m1\u001b[39m \u001b[38;5;129;01mand\u001b[39;00m i \u001b[38;5;241m+\u001b[39m k \u001b[38;5;241m-\u001b[39m n \u001b[38;5;241m<\u001b[39m \u001b[38;5;241m1\u001b[39m \u001b[38;5;129;01mand\u001b[39;00m j \u001b[38;5;241m+\u001b[39m l \u001b[38;5;241m>\u001b[39m\u001b[38;5;241m=\u001b[39m \u001b[38;5;241m1\u001b[39m \u001b[38;5;129;01mand\u001b[39;00m j \u001b[38;5;241m+\u001b[39m l \u001b[38;5;241m-\u001b[39m m \u001b[38;5;241m<\u001b[39m \u001b[38;5;241m1\u001b[39m:\n",
      "                        res[i, j] \u001b[38;5;241m+\u001b[39m\u001b[38;5;241m=\u001b[39m kernel[k, l] \u001b[38;5;241m*\u001b[39m image[i \u001b[38;5;241m+\u001b[39m k \u001b[38;5;241m-\u001b[39m \u001b[38;5;241m1\u001b[39m, j \u001b[38;5;241m+\u001b[39m l \u001b[38;5;241m-\u001b[39m \u001b[38;5;241m1\u001b[39m]\n",
      "\n"
     ]
    }
   ],
   "source": [
    "pprint(blur.split('i[1]',4,['i1','i2']))"
   ]
  },
  {
   "cell_type": "code",
   "execution_count": 14,
   "metadata": {},
   "outputs": [
    {
     "name": "stdout",
     "output_type": "stream",
     "text": [
      "\u001b[38;5;28;01mdef\u001b[39;00m \u001b[38;5;21mblur\u001b[39m(n: size, m: size, k_size: size, image: R[n, m] \u001b[38;5;241m@\u001b[39m IN,\n",
      "         kernel: R[k_size, k_size] \u001b[38;5;241m@\u001b[39m IN, res: R[n, m] \u001b[38;5;241m@\u001b[39m OUT):\n",
      "    \u001b[38;5;28;01mfor\u001b[39;00m i \u001b[38;5;129;01min\u001b[39;00m par(\u001b[38;5;241m0\u001b[39m, n):\n",
      "        \u001b[38;5;28;01mfor\u001b[39;00m j1 \u001b[38;5;129;01min\u001b[39;00m par(\u001b[38;5;241m0\u001b[39m, m \u001b[38;5;241m/\u001b[39m \u001b[38;5;241m4\u001b[39m):\n",
      "            \u001b[38;5;28;01mif\u001b[39;00m \u001b[38;5;241m4\u001b[39m \u001b[38;5;241m*\u001b[39m j1 \u001b[38;5;241m+\u001b[39m \u001b[38;5;241m0\u001b[39m \u001b[38;5;241m<\u001b[39m m:\n",
      "                res[i, \u001b[38;5;241m4\u001b[39m \u001b[38;5;241m*\u001b[39m j1 \u001b[38;5;241m+\u001b[39m \u001b[38;5;241m0\u001b[39m] \u001b[38;5;241m=\u001b[39m \u001b[38;5;241m0.0\u001b[39m\n",
      "            \u001b[38;5;28;01mif\u001b[39;00m \u001b[38;5;241m4\u001b[39m \u001b[38;5;241m*\u001b[39m j1 \u001b[38;5;241m+\u001b[39m \u001b[38;5;241m1\u001b[39m \u001b[38;5;241m<\u001b[39m m:\n",
      "                res[i, \u001b[38;5;241m4\u001b[39m \u001b[38;5;241m*\u001b[39m j1 \u001b[38;5;241m+\u001b[39m \u001b[38;5;241m1\u001b[39m] \u001b[38;5;241m=\u001b[39m \u001b[38;5;241m0.0\u001b[39m\n",
      "            \u001b[38;5;28;01mif\u001b[39;00m \u001b[38;5;241m4\u001b[39m \u001b[38;5;241m*\u001b[39m j1 \u001b[38;5;241m+\u001b[39m \u001b[38;5;241m2\u001b[39m \u001b[38;5;241m<\u001b[39m m:\n",
      "                res[i, \u001b[38;5;241m4\u001b[39m \u001b[38;5;241m*\u001b[39m j1 \u001b[38;5;241m+\u001b[39m \u001b[38;5;241m2\u001b[39m] \u001b[38;5;241m=\u001b[39m \u001b[38;5;241m0.0\u001b[39m\n",
      "            \u001b[38;5;28;01mif\u001b[39;00m \u001b[38;5;241m4\u001b[39m \u001b[38;5;241m*\u001b[39m j1 \u001b[38;5;241m+\u001b[39m \u001b[38;5;241m3\u001b[39m \u001b[38;5;241m<\u001b[39m m:\n",
      "                res[i, \u001b[38;5;241m4\u001b[39m \u001b[38;5;241m*\u001b[39m j1 \u001b[38;5;241m+\u001b[39m \u001b[38;5;241m3\u001b[39m] \u001b[38;5;241m=\u001b[39m \u001b[38;5;241m0.0\u001b[39m\n",
      "    \u001b[38;5;28;01mfor\u001b[39;00m i \u001b[38;5;129;01min\u001b[39;00m par(\u001b[38;5;241m0\u001b[39m, n):\n",
      "        \u001b[38;5;28;01mfor\u001b[39;00m j1 \u001b[38;5;129;01min\u001b[39;00m par(\u001b[38;5;241m0\u001b[39m, m \u001b[38;5;241m/\u001b[39m \u001b[38;5;241m4\u001b[39m):\n",
      "            \u001b[38;5;28;01mif\u001b[39;00m \u001b[38;5;241m4\u001b[39m \u001b[38;5;241m*\u001b[39m j1 \u001b[38;5;241m+\u001b[39m \u001b[38;5;241m0\u001b[39m \u001b[38;5;241m<\u001b[39m m:\n",
      "                \u001b[38;5;28;01mfor\u001b[39;00m k \u001b[38;5;129;01min\u001b[39;00m par(\u001b[38;5;241m0\u001b[39m, k_size):\n",
      "                    \u001b[38;5;28;01mfor\u001b[39;00m l \u001b[38;5;129;01min\u001b[39;00m par(\u001b[38;5;241m0\u001b[39m, k_size):\n",
      "                        \u001b[38;5;28;01mif\u001b[39;00m i \u001b[38;5;241m+\u001b[39m k \u001b[38;5;241m>\u001b[39m\u001b[38;5;241m=\u001b[39m \u001b[38;5;241m1\u001b[39m \u001b[38;5;129;01mand\u001b[39;00m i \u001b[38;5;241m+\u001b[39m k \u001b[38;5;241m-\u001b[39m n \u001b[38;5;241m<\u001b[39m \u001b[38;5;241m1\u001b[39m \u001b[38;5;129;01mand\u001b[39;00m \u001b[38;5;241m4\u001b[39m \u001b[38;5;241m*\u001b[39m j1 \u001b[38;5;241m+\u001b[39m \u001b[38;5;241m0\u001b[39m \u001b[38;5;241m+\u001b[39m l \u001b[38;5;241m>\u001b[39m\u001b[38;5;241m=\u001b[39m \u001b[38;5;241m1\u001b[39m \u001b[38;5;129;01mand\u001b[39;00m \u001b[38;5;241m4\u001b[39m \u001b[38;5;241m*\u001b[39m j1 \u001b[38;5;241m+\u001b[39m \u001b[38;5;241m0\u001b[39m \u001b[38;5;241m+\u001b[39m l \u001b[38;5;241m-\u001b[39m m \u001b[38;5;241m<\u001b[39m \u001b[38;5;241m1\u001b[39m:\n",
      "                            res[i, \u001b[38;5;241m4\u001b[39m \u001b[38;5;241m*\u001b[39m j1 \u001b[38;5;241m+\u001b[39m\n",
      "                                \u001b[38;5;241m0\u001b[39m] \u001b[38;5;241m+\u001b[39m\u001b[38;5;241m=\u001b[39m kernel[k, l] \u001b[38;5;241m*\u001b[39m image[i \u001b[38;5;241m+\u001b[39m k \u001b[38;5;241m-\u001b[39m \u001b[38;5;241m1\u001b[39m,\n",
      "                                                           \u001b[38;5;241m4\u001b[39m \u001b[38;5;241m*\u001b[39m j1 \u001b[38;5;241m+\u001b[39m \u001b[38;5;241m0\u001b[39m \u001b[38;5;241m+\u001b[39m l \u001b[38;5;241m-\u001b[39m \u001b[38;5;241m1\u001b[39m]\n",
      "            \u001b[38;5;28;01mif\u001b[39;00m \u001b[38;5;241m4\u001b[39m \u001b[38;5;241m*\u001b[39m j1 \u001b[38;5;241m+\u001b[39m \u001b[38;5;241m1\u001b[39m \u001b[38;5;241m<\u001b[39m m:\n",
      "                \u001b[38;5;28;01mfor\u001b[39;00m k \u001b[38;5;129;01min\u001b[39;00m par(\u001b[38;5;241m0\u001b[39m, k_size):\n",
      "                    \u001b[38;5;28;01mfor\u001b[39;00m l \u001b[38;5;129;01min\u001b[39;00m par(\u001b[38;5;241m0\u001b[39m, k_size):\n",
      "                        \u001b[38;5;28;01mif\u001b[39;00m i \u001b[38;5;241m+\u001b[39m k \u001b[38;5;241m>\u001b[39m\u001b[38;5;241m=\u001b[39m \u001b[38;5;241m1\u001b[39m \u001b[38;5;129;01mand\u001b[39;00m i \u001b[38;5;241m+\u001b[39m k \u001b[38;5;241m-\u001b[39m n \u001b[38;5;241m<\u001b[39m \u001b[38;5;241m1\u001b[39m \u001b[38;5;129;01mand\u001b[39;00m \u001b[38;5;241m4\u001b[39m \u001b[38;5;241m*\u001b[39m j1 \u001b[38;5;241m+\u001b[39m \u001b[38;5;241m1\u001b[39m \u001b[38;5;241m+\u001b[39m l \u001b[38;5;241m>\u001b[39m\u001b[38;5;241m=\u001b[39m \u001b[38;5;241m1\u001b[39m \u001b[38;5;129;01mand\u001b[39;00m \u001b[38;5;241m4\u001b[39m \u001b[38;5;241m*\u001b[39m j1 \u001b[38;5;241m+\u001b[39m \u001b[38;5;241m1\u001b[39m \u001b[38;5;241m+\u001b[39m l \u001b[38;5;241m-\u001b[39m m \u001b[38;5;241m<\u001b[39m \u001b[38;5;241m1\u001b[39m:\n",
      "                            res[i, \u001b[38;5;241m4\u001b[39m \u001b[38;5;241m*\u001b[39m j1 \u001b[38;5;241m+\u001b[39m\n",
      "                                \u001b[38;5;241m1\u001b[39m] \u001b[38;5;241m+\u001b[39m\u001b[38;5;241m=\u001b[39m kernel[k, l] \u001b[38;5;241m*\u001b[39m image[i \u001b[38;5;241m+\u001b[39m k \u001b[38;5;241m-\u001b[39m \u001b[38;5;241m1\u001b[39m,\n",
      "                                                           \u001b[38;5;241m4\u001b[39m \u001b[38;5;241m*\u001b[39m j1 \u001b[38;5;241m+\u001b[39m \u001b[38;5;241m1\u001b[39m \u001b[38;5;241m+\u001b[39m l \u001b[38;5;241m-\u001b[39m \u001b[38;5;241m1\u001b[39m]\n",
      "            \u001b[38;5;28;01mif\u001b[39;00m \u001b[38;5;241m4\u001b[39m \u001b[38;5;241m*\u001b[39m j1 \u001b[38;5;241m+\u001b[39m \u001b[38;5;241m2\u001b[39m \u001b[38;5;241m<\u001b[39m m:\n",
      "                \u001b[38;5;28;01mfor\u001b[39;00m k \u001b[38;5;129;01min\u001b[39;00m par(\u001b[38;5;241m0\u001b[39m, k_size):\n",
      "                    \u001b[38;5;28;01mfor\u001b[39;00m l \u001b[38;5;129;01min\u001b[39;00m par(\u001b[38;5;241m0\u001b[39m, k_size):\n",
      "                        \u001b[38;5;28;01mif\u001b[39;00m i \u001b[38;5;241m+\u001b[39m k \u001b[38;5;241m>\u001b[39m\u001b[38;5;241m=\u001b[39m \u001b[38;5;241m1\u001b[39m \u001b[38;5;129;01mand\u001b[39;00m i \u001b[38;5;241m+\u001b[39m k \u001b[38;5;241m-\u001b[39m n \u001b[38;5;241m<\u001b[39m \u001b[38;5;241m1\u001b[39m \u001b[38;5;129;01mand\u001b[39;00m \u001b[38;5;241m4\u001b[39m \u001b[38;5;241m*\u001b[39m j1 \u001b[38;5;241m+\u001b[39m \u001b[38;5;241m2\u001b[39m \u001b[38;5;241m+\u001b[39m l \u001b[38;5;241m>\u001b[39m\u001b[38;5;241m=\u001b[39m \u001b[38;5;241m1\u001b[39m \u001b[38;5;129;01mand\u001b[39;00m \u001b[38;5;241m4\u001b[39m \u001b[38;5;241m*\u001b[39m j1 \u001b[38;5;241m+\u001b[39m \u001b[38;5;241m2\u001b[39m \u001b[38;5;241m+\u001b[39m l \u001b[38;5;241m-\u001b[39m m \u001b[38;5;241m<\u001b[39m \u001b[38;5;241m1\u001b[39m:\n",
      "                            res[i, \u001b[38;5;241m4\u001b[39m \u001b[38;5;241m*\u001b[39m j1 \u001b[38;5;241m+\u001b[39m\n",
      "                                \u001b[38;5;241m2\u001b[39m] \u001b[38;5;241m+\u001b[39m\u001b[38;5;241m=\u001b[39m kernel[k, l] \u001b[38;5;241m*\u001b[39m image[i \u001b[38;5;241m+\u001b[39m k \u001b[38;5;241m-\u001b[39m \u001b[38;5;241m1\u001b[39m,\n",
      "                                                           \u001b[38;5;241m4\u001b[39m \u001b[38;5;241m*\u001b[39m j1 \u001b[38;5;241m+\u001b[39m \u001b[38;5;241m2\u001b[39m \u001b[38;5;241m+\u001b[39m l \u001b[38;5;241m-\u001b[39m \u001b[38;5;241m1\u001b[39m]\n",
      "            \u001b[38;5;28;01mif\u001b[39;00m \u001b[38;5;241m4\u001b[39m \u001b[38;5;241m*\u001b[39m j1 \u001b[38;5;241m+\u001b[39m \u001b[38;5;241m3\u001b[39m \u001b[38;5;241m<\u001b[39m m:\n",
      "                \u001b[38;5;28;01mfor\u001b[39;00m k \u001b[38;5;129;01min\u001b[39;00m par(\u001b[38;5;241m0\u001b[39m, k_size):\n",
      "                    \u001b[38;5;28;01mfor\u001b[39;00m l \u001b[38;5;129;01min\u001b[39;00m par(\u001b[38;5;241m0\u001b[39m, k_size):\n",
      "                        \u001b[38;5;28;01mif\u001b[39;00m i \u001b[38;5;241m+\u001b[39m k \u001b[38;5;241m>\u001b[39m\u001b[38;5;241m=\u001b[39m \u001b[38;5;241m1\u001b[39m \u001b[38;5;129;01mand\u001b[39;00m i \u001b[38;5;241m+\u001b[39m k \u001b[38;5;241m-\u001b[39m n \u001b[38;5;241m<\u001b[39m \u001b[38;5;241m1\u001b[39m \u001b[38;5;129;01mand\u001b[39;00m \u001b[38;5;241m4\u001b[39m \u001b[38;5;241m*\u001b[39m j1 \u001b[38;5;241m+\u001b[39m \u001b[38;5;241m3\u001b[39m \u001b[38;5;241m+\u001b[39m l \u001b[38;5;241m>\u001b[39m\u001b[38;5;241m=\u001b[39m \u001b[38;5;241m1\u001b[39m \u001b[38;5;129;01mand\u001b[39;00m \u001b[38;5;241m4\u001b[39m \u001b[38;5;241m*\u001b[39m j1 \u001b[38;5;241m+\u001b[39m \u001b[38;5;241m3\u001b[39m \u001b[38;5;241m+\u001b[39m l \u001b[38;5;241m-\u001b[39m m \u001b[38;5;241m<\u001b[39m \u001b[38;5;241m1\u001b[39m:\n",
      "                            res[i, \u001b[38;5;241m4\u001b[39m \u001b[38;5;241m*\u001b[39m j1 \u001b[38;5;241m+\u001b[39m\n",
      "                                \u001b[38;5;241m3\u001b[39m] \u001b[38;5;241m+\u001b[39m\u001b[38;5;241m=\u001b[39m kernel[k, l] \u001b[38;5;241m*\u001b[39m image[i \u001b[38;5;241m+\u001b[39m k \u001b[38;5;241m-\u001b[39m \u001b[38;5;241m1\u001b[39m,\n",
      "                                                           \u001b[38;5;241m4\u001b[39m \u001b[38;5;241m*\u001b[39m j1 \u001b[38;5;241m+\u001b[39m \u001b[38;5;241m3\u001b[39m \u001b[38;5;241m+\u001b[39m l \u001b[38;5;241m-\u001b[39m \u001b[38;5;241m1\u001b[39m]\n",
      "\n"
     ]
    }
   ],
   "source": [
    "blur = blur.split('j',4,['j1','j2'])\n",
    "blur = blur.unroll('j2')\n",
    "pprint(blur)"
   ]
  }
 ],
 "metadata": {
  "kernelspec": {
   "display_name": "Python 3",
   "language": "python",
   "name": "python3"
  },
  "language_info": {
   "codemirror_mode": {
    "name": "ipython",
    "version": 3
   },
   "file_extension": ".py",
   "mimetype": "text/x-python",
   "name": "python",
   "nbconvert_exporter": "python",
   "pygments_lexer": "ipython3",
   "version": "3.8.5"
  }
 },
 "nbformat": 4,
 "nbformat_minor": 4
}
