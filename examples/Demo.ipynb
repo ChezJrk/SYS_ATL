{
 "cells": [
  {
   "cell_type": "code",
   "execution_count": 2,
   "metadata": {},
   "outputs": [],
   "source": [
    "from __future__ import annotations\n",
    "#from PIL import Image\n",
    "#import scipy.stats as st\n",
    "import sys\n",
    "sys.path.append(sys.path[0]+\"/..\")\n",
    "from SYS_ATL import proc, Procedure"
   ]
  },
  {
   "cell_type": "code",
   "execution_count": 3,
   "metadata": {},
   "outputs": [],
   "source": [
    "def gen_blur():\n",
    "    @proc\n",
    "    def blur(n: size, m: size, k_size: size,\n",
    "             image: R[n, m] @ IN, kernel: R[k_size, k_size] @ IN, res: R[n, m] @ OUT):\n",
    "        for i in par(0, n):\n",
    "            for j in par(0, m):\n",
    "                res[i, j] = 0.0\n",
    "        for i in par(0, n):\n",
    "            for j in par(0, m):\n",
    "                for k in par(0, k_size):\n",
    "                    for l in par(0, k_size):\n",
    "                        if i+k >= 1 and i+k-n < 1 and j+l >= 1 and j+l-m < 1:\n",
    "                            res[i, j] += kernel[k, l] * image[i+k-1, j+l-1]\n",
    "\n",
    "    return blur"
   ]
  },
  {
   "cell_type": "code",
   "execution_count": 4,
   "metadata": {},
   "outputs": [
    {
     "data": {
      "text/markdown": [
       "```python\n",
       "def blur(n: size, m: size, k_size: size, image: R[n, m] @ IN,\n",
       "         kernel: R[k_size, k_size] @ IN, res: R[n, m] @ OUT):\n",
       "    for i in par(0, n):\n",
       "        for j in par(0, m):\n",
       "            res[i, j] = 0.0\n",
       "    for i in par(0, n):\n",
       "        for j in par(0, m):\n",
       "            for k in par(0, k_size):\n",
       "                for l in par(0, k_size):\n",
       "                    if i + k >= 1 and i + k - n < 1 and j + l >= 1 and j + l - m < 1:\n",
       "                        res[i, j] += kernel[k, l] * image[i + k - 1, j + l - 1]\n",
       "\n",
       "```"
      ],
      "text/plain": [
       "<SYS_ATL.API.Procedure at 0x1189b7790>"
      ]
     },
     "execution_count": 4,
     "metadata": {},
     "output_type": "execute_result"
    }
   ],
   "source": [
    "blur = gen_blur()\n",
    "blur"
   ]
  },
  {
   "cell_type": "code",
   "execution_count": 5,
   "metadata": {},
   "outputs": [
    {
     "data": {
      "text/markdown": [
       "```python\n",
       "def blur(n: size, m: size, k_size: size, image: R[n, m] @ IN,\n",
       "         kernel: R[k_size, k_size] @ IN, res: R[n, m] @ OUT):\n",
       "    for i in par(0, n):\n",
       "        for j in par(0, m):\n",
       "            res[i, j] = 0.0\n",
       "    for i in par(0, n):\n",
       "        for j in par(0, m):\n",
       "            for l in par(0, k_size):\n",
       "                for k in par(0, k_size):\n",
       "                    if i + k >= 1 and i + k - n < 1 and j + l >= 1 and j + l - m < 1:\n",
       "                        res[i, j] += kernel[k, l] * image[i + k - 1, j + l - 1]\n",
       "\n",
       "```"
      ],
      "text/plain": [
       "<SYS_ATL.API.Procedure at 0x1188d1f70>"
      ]
     },
     "execution_count": 5,
     "metadata": {},
     "output_type": "execute_result"
    }
   ],
   "source": [
    "blur.reorder('k', 'l')"
   ]
  },
  {
   "cell_type": "code",
   "execution_count": 6,
   "metadata": {},
   "outputs": [
    {
     "data": {
      "text/markdown": [
       "```python\n",
       "def blur(n: size, m: size, k_size: size, image: R[n, m] @ IN,\n",
       "         kernel: R[k_size, k_size] @ IN, res: R[n, m] @ OUT):\n",
       "    for i in par(0, n):\n",
       "        for j1 in par(0, m / 4):\n",
       "            for j2 in par(0, 4):\n",
       "                if 4 * j1 + j2 < m:\n",
       "                    res[i, 4 * j1 + j2] = 0.0\n",
       "    for i in par(0, n):\n",
       "        for j1 in par(0, m / 4):\n",
       "            for j2 in par(0, 4):\n",
       "                if 4 * j1 + j2 < m:\n",
       "                    for k in par(0, k_size):\n",
       "                        for l in par(0, k_size):\n",
       "                            if i + k >= 1 and i + k - n < 1 and 4 * j1 + j2 + l >= 1 and 4 * j1 + j2 + l - m < 1:\n",
       "                                res[i, 4 * j1 +\n",
       "                                    j2] += kernel[k, l] * image[i + k - 1,\n",
       "                                                                4 * j1 + j2 +\n",
       "                                                                l - 1]\n",
       "\n",
       "```"
      ],
      "text/plain": [
       "<SYS_ATL.API.Procedure at 0x118a69df0>"
      ]
     },
     "execution_count": 6,
     "metadata": {},
     "output_type": "execute_result"
    }
   ],
   "source": [
    "blur.split('j',4,['j1','j2'])"
   ]
  },
  {
   "cell_type": "code",
   "execution_count": 7,
   "metadata": {},
   "outputs": [
    {
     "data": {
      "text/markdown": [
       "```python\n",
       "def blur(n: size, m: size, k_size: size, image: R[n, m] @ IN,\n",
       "         kernel: R[k_size, k_size] @ IN, res: R[n, m] @ OUT):\n",
       "    for i1 in par(0, n / 4):\n",
       "        for i2 in par(0, 4):\n",
       "            if 4 * i1 + i2 < n:\n",
       "                for j in par(0, m):\n",
       "                    res[4 * i1 + i2, j] = 0.0\n",
       "    for i in par(0, n):\n",
       "        for j in par(0, m):\n",
       "            for k in par(0, k_size):\n",
       "                for l in par(0, k_size):\n",
       "                    if i + k >= 1 and i + k - n < 1 and j + l >= 1 and j + l - m < 1:\n",
       "                        res[i, j] += kernel[k, l] * image[i + k - 1, j + l - 1]\n",
       "\n",
       "```"
      ],
      "text/plain": [
       "<SYS_ATL.API.Procedure at 0x118a49340>"
      ]
     },
     "execution_count": 7,
     "metadata": {},
     "output_type": "execute_result"
    }
   ],
   "source": [
    "blur.split('i[1]',4,['i1','i2'])"
   ]
  },
  {
   "cell_type": "code",
   "execution_count": 8,
   "metadata": {},
   "outputs": [
    {
     "data": {
      "text/markdown": [
       "```python\n",
       "def blur(n: size, m: size, k_size: size, image: R[n, m] @ IN,\n",
       "         kernel: R[k_size, k_size] @ IN, res: R[n, m] @ OUT):\n",
       "    for i in par(0, n):\n",
       "        for j1 in par(0, m / 4):\n",
       "            if 4 * j1 + 0 < m:\n",
       "                res[i, 4 * j1 + 0] = 0.0\n",
       "            if 4 * j1 + 1 < m:\n",
       "                res[i, 4 * j1 + 1] = 0.0\n",
       "            if 4 * j1 + 2 < m:\n",
       "                res[i, 4 * j1 + 2] = 0.0\n",
       "            if 4 * j1 + 3 < m:\n",
       "                res[i, 4 * j1 + 3] = 0.0\n",
       "    for i in par(0, n):\n",
       "        for j1 in par(0, m / 4):\n",
       "            if 4 * j1 + 0 < m:\n",
       "                for k in par(0, k_size):\n",
       "                    for l in par(0, k_size):\n",
       "                        if i + k >= 1 and i + k - n < 1 and 4 * j1 + 0 + l >= 1 and 4 * j1 + 0 + l - m < 1:\n",
       "                            res[i, 4 * j1 +\n",
       "                                0] += kernel[k, l] * image[i + k - 1,\n",
       "                                                           4 * j1 + 0 + l - 1]\n",
       "            if 4 * j1 + 1 < m:\n",
       "                for k in par(0, k_size):\n",
       "                    for l in par(0, k_size):\n",
       "                        if i + k >= 1 and i + k - n < 1 and 4 * j1 + 1 + l >= 1 and 4 * j1 + 1 + l - m < 1:\n",
       "                            res[i, 4 * j1 +\n",
       "                                1] += kernel[k, l] * image[i + k - 1,\n",
       "                                                           4 * j1 + 1 + l - 1]\n",
       "            if 4 * j1 + 2 < m:\n",
       "                for k in par(0, k_size):\n",
       "                    for l in par(0, k_size):\n",
       "                        if i + k >= 1 and i + k - n < 1 and 4 * j1 + 2 + l >= 1 and 4 * j1 + 2 + l - m < 1:\n",
       "                            res[i, 4 * j1 +\n",
       "                                2] += kernel[k, l] * image[i + k - 1,\n",
       "                                                           4 * j1 + 2 + l - 1]\n",
       "            if 4 * j1 + 3 < m:\n",
       "                for k in par(0, k_size):\n",
       "                    for l in par(0, k_size):\n",
       "                        if i + k >= 1 and i + k - n < 1 and 4 * j1 + 3 + l >= 1 and 4 * j1 + 3 + l - m < 1:\n",
       "                            res[i, 4 * j1 +\n",
       "                                3] += kernel[k, l] * image[i + k - 1,\n",
       "                                                           4 * j1 + 3 + l - 1]\n",
       "\n",
       "```"
      ],
      "text/plain": [
       "<SYS_ATL.API.Procedure at 0x118a69790>"
      ]
     },
     "execution_count": 8,
     "metadata": {},
     "output_type": "execute_result"
    }
   ],
   "source": [
    "blur = blur.split('j',4,['j1','j2'])\n",
    "blur = blur.unroll('j2')\n",
    "blur"
   ]
  },
  {
   "cell_type": "code",
   "execution_count": 9,
   "metadata": {},
   "outputs": [
    {
     "data": {
      "text/markdown": [
       "```c\n",
       "int _floor_div(int num, int quot) {\n",
       "  int off = (num<0)? quot-1 : 0;\n",
       "  return (num-off)/quot;\n",
       "}\n",
       "\n",
       "\n",
       "// blur2( image : R[n,m] @IN, kernel : R[k_size,k_size] @IN, res : R[n,m] @OUT )\n",
       "void blur2( int n, int m, int k_size, float* image, float* kernel, float* res) {\n",
       "  for (int i=0; i < n; i++) {\n",
       "      for (int j1=0; j1 < _floor_div(m, 4); j1++) {\n",
       "          if (4 * j1 + 0 < m) {\n",
       "              res[(i) * m + (4 * j1 + 0)] = 0.0;\n",
       "          }\n",
       "          if (4 * j1 + 1 < m) {\n",
       "              res[(i) * m + (4 * j1 + 1)] = 0.0;\n",
       "          }\n",
       "          if (4 * j1 + 2 < m) {\n",
       "              res[(i) * m + (4 * j1 + 2)] = 0.0;\n",
       "          }\n",
       "          if (4 * j1 + 3 < m) {\n",
       "              res[(i) * m + (4 * j1 + 3)] = 0.0;\n",
       "          }\n",
       "      }\n",
       "  }\n",
       "  for (int i=0; i < n; i++) {\n",
       "      for (int j1=0; j1 < _floor_div(m, 4); j1++) {\n",
       "          if (4 * j1 + 0 < m) {\n",
       "              for (int k=0; k < k_size; k++) {\n",
       "                  for (int l=0; l < k_size; l++) {\n",
       "                      if (i + k >= 1 && i + k - n < 1 && 4 * j1 + 0 + l >= 1 && 4 * j1 + 0 + l - m < 1) {\n",
       "                          res[(i) * m + (4 * j1 + 0)] += kernel[(k) * k_size + (l)] * image[(i + k - 1) * m + (4 * j1 + 0 + l - 1)];\n",
       "                      }\n",
       "                  }\n",
       "              }\n",
       "          }\n",
       "          if (4 * j1 + 1 < m) {\n",
       "              for (int k=0; k < k_size; k++) {\n",
       "                  for (int l=0; l < k_size; l++) {\n",
       "                      if (i + k >= 1 && i + k - n < 1 && 4 * j1 + 1 + l >= 1 && 4 * j1 + 1 + l - m < 1) {\n",
       "                          res[(i) * m + (4 * j1 + 1)] += kernel[(k) * k_size + (l)] * image[(i + k - 1) * m + (4 * j1 + 1 + l - 1)];\n",
       "                      }\n",
       "                  }\n",
       "              }\n",
       "          }\n",
       "          if (4 * j1 + 2 < m) {\n",
       "              for (int k=0; k < k_size; k++) {\n",
       "                  for (int l=0; l < k_size; l++) {\n",
       "                      if (i + k >= 1 && i + k - n < 1 && 4 * j1 + 2 + l >= 1 && 4 * j1 + 2 + l - m < 1) {\n",
       "                          res[(i) * m + (4 * j1 + 2)] += kernel[(k) * k_size + (l)] * image[(i + k - 1) * m + (4 * j1 + 2 + l - 1)];\n",
       "                      }\n",
       "                  }\n",
       "              }\n",
       "          }\n",
       "          if (4 * j1 + 3 < m) {\n",
       "              for (int k=0; k < k_size; k++) {\n",
       "                  for (int l=0; l < k_size; l++) {\n",
       "                      if (i + k >= 1 && i + k - n < 1 && 4 * j1 + 3 + l >= 1 && 4 * j1 + 3 + l - m < 1) {\n",
       "                          res[(i) * m + (4 * j1 + 3)] += kernel[(k) * k_size + (l)] * image[(i + k - 1) * m + (4 * j1 + 3 + l - 1)];\n",
       "                      }\n",
       "                  }\n",
       "              }\n",
       "          }\n",
       "      }\n",
       "  }\n",
       "}\n",
       "\n",
       "```"
      ],
      "text/plain": [
       "<SYS_ATL.API.MarkDownBlob at 0x118bc9460>"
      ]
     },
     "execution_count": 9,
     "metadata": {},
     "output_type": "execute_result"
    }
   ],
   "source": [
    "blur2 = blur.rename('blur2')\n",
    "blur2.c_code_mkdwn()"
   ]
  },
  {
   "cell_type": "code",
   "execution_count": null,
   "metadata": {},
   "outputs": [],
   "source": []
  }
 ],
 "metadata": {
  "kernelspec": {
   "display_name": "Python 3",
   "language": "python",
   "name": "python3"
  }
 },
 "nbformat": 4,
 "nbformat_minor": 4
}
